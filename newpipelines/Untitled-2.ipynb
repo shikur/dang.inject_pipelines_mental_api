{
 "cells": [
  {
   "cell_type": "code",
   "execution_count": 6,
   "metadata": {},
   "outputs": [
    {
     "name": "stdout",
     "output_type": "stream",
     "text": [
      "test\n"
     ]
    }
   ],
   "source": [
    "print(\"test\")"
   ]
  },
  {
   "cell_type": "code",
   "execution_count": 29,
   "metadata": {},
   "outputs": [
    {
     "data": {
      "text/plain": [
       "(98, 3)"
      ]
     },
     "execution_count": 29,
     "metadata": {},
     "output_type": "execute_result"
    }
   ],
   "source": [
    "import pandas as pd\n",
    "df = pd.read_csv('data/input/qustions_answers/mental_health_faq.csv')\n",
    "df.shape"
   ]
  },
  {
   "cell_type": "code",
   "execution_count": 15,
   "metadata": {},
   "outputs": [],
   "source": [
    "dfnull = df.isnull()"
   ]
  },
  {
   "cell_type": "code",
   "execution_count": 16,
   "metadata": {},
   "outputs": [
    {
     "data": {
      "text/plain": [
       "(98, 3)"
      ]
     },
     "execution_count": 16,
     "metadata": {},
     "output_type": "execute_result"
    }
   ],
   "source": [
    "dfnull.shape"
   ]
  },
  {
   "cell_type": "code",
   "execution_count": 26,
   "metadata": {},
   "outputs": [],
   "source": [
    "rows_with_nulls = df[df['Answers'].isnull()]"
   ]
  },
  {
   "cell_type": "code",
   "execution_count": 27,
   "metadata": {},
   "outputs": [
    {
     "data": {
      "text/html": [
       "<div>\n",
       "<style scoped>\n",
       "    .dataframe tbody tr th:only-of-type {\n",
       "        vertical-align: middle;\n",
       "    }\n",
       "\n",
       "    .dataframe tbody tr th {\n",
       "        vertical-align: top;\n",
       "    }\n",
       "\n",
       "    .dataframe thead th {\n",
       "        text-align: right;\n",
       "    }\n",
       "</style>\n",
       "<table border=\"1\" class=\"dataframe\">\n",
       "  <thead>\n",
       "    <tr style=\"text-align: right;\">\n",
       "      <th></th>\n",
       "      <th>Question_ID</th>\n",
       "      <th>Questions</th>\n",
       "      <th>Answers</th>\n",
       "    </tr>\n",
       "  </thead>\n",
       "  <tbody>\n",
       "  </tbody>\n",
       "</table>\n",
       "</div>"
      ],
      "text/plain": [
       "Empty DataFrame\n",
       "Columns: [Question_ID, Questions, Answers]\n",
       "Index: []"
      ]
     },
     "execution_count": 27,
     "metadata": {},
     "output_type": "execute_result"
    }
   ],
   "source": [
    "rows_with_nulls.head()"
   ]
  },
  {
   "cell_type": "code",
   "execution_count": 14,
   "metadata": {},
   "outputs": [
    {
     "data": {
      "text/plain": [
       "(98, 3)"
      ]
     },
     "execution_count": 14,
     "metadata": {},
     "output_type": "execute_result"
    }
   ],
   "source": [
    "df.shape"
   ]
  },
  {
   "cell_type": "code",
   "execution_count": 11,
   "metadata": {},
   "outputs": [
    {
     "ename": "IndexError",
     "evalue": "invalid index to scalar variable.",
     "output_type": "error",
     "traceback": [
      "\u001b[0;31m---------------------------------------------------------------------------\u001b[0m",
      "\u001b[0;31mIndexError\u001b[0m                                Traceback (most recent call last)",
      "Cell \u001b[0;32mIn[11], line 1\u001b[0m\n\u001b[0;32m----> 1\u001b[0m df \u001b[38;5;241m=\u001b[39m null_in_A \u001b[38;5;241m=\u001b[39m \u001b[43mdf\u001b[49m\u001b[43m[\u001b[49m\u001b[38;5;124;43m'\u001b[39;49m\u001b[38;5;124;43mAnswers\u001b[39;49m\u001b[38;5;124;43m'\u001b[39;49m\u001b[43m]\u001b[49m\u001b[38;5;241m.\u001b[39misnull()\n",
      "\u001b[0;31mIndexError\u001b[0m: invalid index to scalar variable."
     ]
    }
   ],
   "source": [
    "df = null_in_A = df['Answers'].isnull()"
   ]
  },
  {
   "cell_type": "code",
   "execution_count": 9,
   "metadata": {},
   "outputs": [
    {
     "ename": "AttributeError",
     "evalue": "'numpy.int64' object has no attribute 'head'",
     "output_type": "error",
     "traceback": [
      "\u001b[0;31m---------------------------------------------------------------------------\u001b[0m",
      "\u001b[0;31mAttributeError\u001b[0m                            Traceback (most recent call last)",
      "Cell \u001b[0;32mIn[9], line 1\u001b[0m\n\u001b[0;32m----> 1\u001b[0m \u001b[43mdf\u001b[49m\u001b[38;5;241;43m.\u001b[39;49m\u001b[43mhead\u001b[49m(\u001b[38;5;241m100\u001b[39m)\n",
      "\u001b[0;31mAttributeError\u001b[0m: 'numpy.int64' object has no attribute 'head'"
     ]
    }
   ],
   "source": [
    "df.head(100)"
   ]
  },
  {
   "cell_type": "code",
   "execution_count": 5,
   "metadata": {},
   "outputs": [
    {
     "data": {
      "text/html": [
       "<div>\n",
       "<style scoped>\n",
       "    .dataframe tbody tr th:only-of-type {\n",
       "        vertical-align: middle;\n",
       "    }\n",
       "\n",
       "    .dataframe tbody tr th {\n",
       "        vertical-align: top;\n",
       "    }\n",
       "\n",
       "    .dataframe thead th {\n",
       "        text-align: right;\n",
       "    }\n",
       "</style>\n",
       "<table border=\"1\" class=\"dataframe\">\n",
       "  <thead>\n",
       "    <tr style=\"text-align: right;\">\n",
       "      <th></th>\n",
       "      <th>Question_ID</th>\n",
       "      <th>Questions</th>\n",
       "      <th>Answers</th>\n",
       "    </tr>\n",
       "  </thead>\n",
       "  <tbody>\n",
       "    <tr>\n",
       "      <th>0</th>\n",
       "      <td>1590140</td>\n",
       "      <td>What does it mean to have a mental illness?</td>\n",
       "      <td>Mental illnesses are health conditions that di...</td>\n",
       "    </tr>\n",
       "    <tr>\n",
       "      <th>1</th>\n",
       "      <td>2110618</td>\n",
       "      <td>Who does mental illness affect?</td>\n",
       "      <td>It is estimated that mental illness affects 1 ...</td>\n",
       "    </tr>\n",
       "    <tr>\n",
       "      <th>2</th>\n",
       "      <td>6361820</td>\n",
       "      <td>What causes mental illness?</td>\n",
       "      <td>It is estimated that mental illness affects 1 ...</td>\n",
       "    </tr>\n",
       "    <tr>\n",
       "      <th>3</th>\n",
       "      <td>9434130</td>\n",
       "      <td>What are some of the warning signs of mental i...</td>\n",
       "      <td>Symptoms of mental health disorders vary depen...</td>\n",
       "    </tr>\n",
       "    <tr>\n",
       "      <th>4</th>\n",
       "      <td>7657263</td>\n",
       "      <td>Can people with mental illness recover?</td>\n",
       "      <td>When healing from mental illness, early identi...</td>\n",
       "    </tr>\n",
       "    <tr>\n",
       "      <th>5</th>\n",
       "      <td>1619387</td>\n",
       "      <td>What should I do if I know someone who appears...</td>\n",
       "      <td>Although this website cannot substitute for pr...</td>\n",
       "    </tr>\n",
       "    <tr>\n",
       "      <th>6</th>\n",
       "      <td>1030153</td>\n",
       "      <td>How can I find a mental health professional fo...</td>\n",
       "      <td>Feeling comfortable with the professional you ...</td>\n",
       "    </tr>\n",
       "    <tr>\n",
       "      <th>7</th>\n",
       "      <td>8022026</td>\n",
       "      <td>What treatment options are available?</td>\n",
       "      <td>Just as there are different types of medicatio...</td>\n",
       "    </tr>\n",
       "    <tr>\n",
       "      <th>8</th>\n",
       "      <td>1155199</td>\n",
       "      <td>If I become involved in treatment, what do I n...</td>\n",
       "      <td>Since beginning treatment is a big step for in...</td>\n",
       "    </tr>\n",
       "    <tr>\n",
       "      <th>9</th>\n",
       "      <td>7760466</td>\n",
       "      <td>What is the difference between mental health p...</td>\n",
       "      <td>There are many types of mental health professi...</td>\n",
       "    </tr>\n",
       "    <tr>\n",
       "      <th>10</th>\n",
       "      <td>2553795</td>\n",
       "      <td>How can I find a mental health professional ri...</td>\n",
       "      <td>Feeling comfortable with the professional you ...</td>\n",
       "    </tr>\n",
       "    <tr>\n",
       "      <th>11</th>\n",
       "      <td>1259439</td>\n",
       "      <td>If I become involved in treatment what do I ne...</td>\n",
       "      <td>Beginning treatment is a big step for individu...</td>\n",
       "    </tr>\n",
       "    <tr>\n",
       "      <th>12</th>\n",
       "      <td>4197817</td>\n",
       "      <td>Where else can I get help?</td>\n",
       "      <td>Where you go for help will depend on the natur...</td>\n",
       "    </tr>\n",
       "    <tr>\n",
       "      <th>13</th>\n",
       "      <td>3388962</td>\n",
       "      <td>What should I know before starting a new medic...</td>\n",
       "      <td>The best source of information regarding medic...</td>\n",
       "    </tr>\n",
       "    <tr>\n",
       "      <th>14</th>\n",
       "      <td>5343181</td>\n",
       "      <td>If I feel better after taking medication, does...</td>\n",
       "      <td>It is not uncommon for people to stop taking t...</td>\n",
       "    </tr>\n",
       "    <tr>\n",
       "      <th>15</th>\n",
       "      <td>5778437</td>\n",
       "      <td>How can I get help paying for my medication?</td>\n",
       "      <td>Some pharmaceutical companies offer prescripti...</td>\n",
       "    </tr>\n",
       "    <tr>\n",
       "      <th>16</th>\n",
       "      <td>9541219</td>\n",
       "      <td>Where can I go to find therapy</td>\n",
       "      <td>Different kinds of therapy are more effective ...</td>\n",
       "    </tr>\n",
       "    <tr>\n",
       "      <th>17</th>\n",
       "      <td>3268009</td>\n",
       "      <td>Where can I learn about types of mental health...</td>\n",
       "      <td>Mental health conditions are often treated wit...</td>\n",
       "    </tr>\n",
       "    <tr>\n",
       "      <th>18</th>\n",
       "      <td>3340726</td>\n",
       "      <td>What are the different types of mental health ...</td>\n",
       "      <td>There are many types of mental health professi...</td>\n",
       "    </tr>\n",
       "    <tr>\n",
       "      <th>19</th>\n",
       "      <td>9539480</td>\n",
       "      <td>Where can I go to find a support group?</td>\n",
       "      <td>Many people find peer support a helpful tool t...</td>\n",
       "    </tr>\n",
       "  </tbody>\n",
       "</table>\n",
       "</div>"
      ],
      "text/plain": [
       "    Question_ID                                          Questions  \\\n",
       "0       1590140        What does it mean to have a mental illness?   \n",
       "1       2110618                    Who does mental illness affect?   \n",
       "2       6361820                        What causes mental illness?   \n",
       "3       9434130  What are some of the warning signs of mental i...   \n",
       "4       7657263            Can people with mental illness recover?   \n",
       "5       1619387  What should I do if I know someone who appears...   \n",
       "6       1030153  How can I find a mental health professional fo...   \n",
       "7       8022026              What treatment options are available?   \n",
       "8       1155199  If I become involved in treatment, what do I n...   \n",
       "9       7760466  What is the difference between mental health p...   \n",
       "10      2553795  How can I find a mental health professional ri...   \n",
       "11      1259439  If I become involved in treatment what do I ne...   \n",
       "12      4197817                         Where else can I get help?   \n",
       "13      3388962  What should I know before starting a new medic...   \n",
       "14      5343181  If I feel better after taking medication, does...   \n",
       "15      5778437       How can I get help paying for my medication?   \n",
       "16      9541219                     Where can I go to find therapy   \n",
       "17      3268009  Where can I learn about types of mental health...   \n",
       "18      3340726  What are the different types of mental health ...   \n",
       "19      9539480            Where can I go to find a support group?   \n",
       "\n",
       "                                              Answers  \n",
       "0   Mental illnesses are health conditions that di...  \n",
       "1   It is estimated that mental illness affects 1 ...  \n",
       "2   It is estimated that mental illness affects 1 ...  \n",
       "3   Symptoms of mental health disorders vary depen...  \n",
       "4   When healing from mental illness, early identi...  \n",
       "5   Although this website cannot substitute for pr...  \n",
       "6   Feeling comfortable with the professional you ...  \n",
       "7   Just as there are different types of medicatio...  \n",
       "8   Since beginning treatment is a big step for in...  \n",
       "9   There are many types of mental health professi...  \n",
       "10  Feeling comfortable with the professional you ...  \n",
       "11  Beginning treatment is a big step for individu...  \n",
       "12  Where you go for help will depend on the natur...  \n",
       "13  The best source of information regarding medic...  \n",
       "14  It is not uncommon for people to stop taking t...  \n",
       "15  Some pharmaceutical companies offer prescripti...  \n",
       "16  Different kinds of therapy are more effective ...  \n",
       "17  Mental health conditions are often treated wit...  \n",
       "18  There are many types of mental health professi...  \n",
       "19  Many people find peer support a helpful tool t...  "
      ]
     },
     "execution_count": 5,
     "metadata": {},
     "output_type": "execute_result"
    }
   ],
   "source": [
    "df.head(20)"
   ]
  }
 ],
 "metadata": {
  "kernelspec": {
   "display_name": "mlinj_env",
   "language": "python",
   "name": "python3"
  },
  "language_info": {
   "codemirror_mode": {
    "name": "ipython",
    "version": 3
   },
   "file_extension": ".py",
   "mimetype": "text/x-python",
   "name": "python",
   "nbconvert_exporter": "python",
   "pygments_lexer": "ipython3",
   "version": "3.10.12"
  }
 },
 "nbformat": 4,
 "nbformat_minor": 2
}
